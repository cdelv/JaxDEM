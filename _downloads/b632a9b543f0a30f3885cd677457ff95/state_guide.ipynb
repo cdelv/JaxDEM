{
  "cells": [
    {
      "cell_type": "markdown",
      "metadata": {},
      "source": [
        "\n# The Simulation State\n\nThis example focuses on the :py:class:`jaxdem.state.State` object,\na core component of JaxDEM that holds all information about the particles\nin a simulation.\n\nJaxDEM stores particle data using a Structure-of-Arrays ([SoA](https://en.wikipedia.org/wiki/AoS_and_SoA)) architecture,\nmaking it efficient for JAX's vectorized and parallel computations.\nThis approach also simplifies handling trajectories and batched simulations\nwithout requiring complex code modifications.\n\nLet's explore how to create, modify, and extend the simulation state effectively.\n"
      ]
    },
    {
      "cell_type": "markdown",
      "metadata": {},
      "source": [
        "## State Creation\nWe'll start by creating a simple 2D state representing a single particle\nlocated at the origin. By default, :py:meth:`jaxdem.state.State.create`\ninitializes non-specified attributes (like velocity, radius, mass) with\nsensible default values.\n\n"
      ]
    },
    {
      "cell_type": "code",
      "execution_count": null,
      "metadata": {
        "collapsed": false
      },
      "outputs": [],
      "source": [
        "import jax\nimport jaxdem as jdem\nimport jax.numpy as jnp\n\nstate = jdem.State.create(pos=[[0.0, 0.0]])\nprint(f\"Dimension of state: {state.dim}\")\nprint(f\"Initial position: {state.pos}\")"
      ]
    },
    {
      "cell_type": "markdown",
      "metadata": {},
      "source": [
        "To create a 3D state, simply pass a 3D coordinate list. JaxDEM\nautomatically infers the simulation dimension from the position data.\nThe library is designed for flexibility across dimensions, but a check\nensures the state is explicitly 2D or 3D.\n\n"
      ]
    },
    {
      "cell_type": "code",
      "execution_count": null,
      "metadata": {
        "collapsed": false
      },
      "outputs": [],
      "source": [
        "state = jdem.State.create(pos=[[0.0, 0.0, 0.0]])\nprint(f\"Dimension of state: {state.dim}\")\nprint(f\"Initial position: {state.pos}\")"
      ]
    },
    {
      "cell_type": "markdown",
      "metadata": {},
      "source": [
        "## Modifying State Attributes\nWe have two primary ways to set or modify particle attributes:\n\n1.  **Direct assignment:** You can assign new JAX arrays\n    to attributes like `state.vel`. This is flexible but requires you\n    to ensure shape consistency.\n\n"
      ]
    },
    {
      "cell_type": "code",
      "execution_count": null,
      "metadata": {
        "collapsed": false
      },
      "outputs": [],
      "source": [
        "state.vel = jnp.ones_like(state.pos)\nprint(state.vel)"
      ]
    },
    {
      "cell_type": "markdown",
      "metadata": {},
      "source": [
        "Note that because we are dealing with JAX arrays, doing something like\n\n```python\nstate.vel[i] = jnp.asarray([1, 2, 3], dtype=float)\n```\nwill result in an error. The correct way of doing this is\n\n"
      ]
    },
    {
      "cell_type": "code",
      "execution_count": null,
      "metadata": {
        "collapsed": false
      },
      "outputs": [],
      "source": [
        "i = 0\nstate.vel = state.vel.at[i].set(jnp.asarray([1, 2, 3], dtype=float))\nprint(state.vel)"
      ]
    },
    {
      "cell_type": "markdown",
      "metadata": {},
      "source": [
        "However, this is not efficient and is not recommended. Always try to use vectorized operations.\n\n"
      ]
    },
    {
      "cell_type": "markdown",
      "metadata": {},
      "source": [
        "2.  **Constructor arguments:** This is generally the\n    safer approach, as the :py:meth:`jaxdem.state.State.create`\n    constructor automatically validates shapes and types, ensuring\n    consistency across all attributes.\n\n"
      ]
    },
    {
      "cell_type": "code",
      "execution_count": null,
      "metadata": {
        "collapsed": false
      },
      "outputs": [],
      "source": [
        "state = jdem.State.create(pos=jnp.zeros((1, 2)), vel=jnp.ones((1, 2)))\nprint(state.vel)"
      ]
    },
    {
      "cell_type": "markdown",
      "metadata": {},
      "source": [
        "## Extending the State\nWorking directly with [SoA](https://en.wikipedia.org/wiki/AoS_and_SoA) structures can sometimes feel less intuitive\nthan Array-of-Structures (AoS) for adding and modifying individual particles. To simplify\nthis, JaxDEM provides utility methods like :py:meth:`jaxdem.state.State.add`.\n\n:py:meth:`jaxdem.state.State.add` allows you to append new particles to an\nexisting state, automatically assigning unique IDs and checking for dimension\nconsistency.\n\n"
      ]
    },
    {
      "cell_type": "code",
      "execution_count": null,
      "metadata": {
        "collapsed": false
      },
      "outputs": [],
      "source": [
        "state = jdem.State.create(pos=jnp.array([[0.0, 0.0]]), rad=jnp.array([0.5]))\nprint(f\"Initial state (N={state.N}, IDs={state.ID}):\\npos={state.pos}\")\n\nstate = jdem.State.add(\n    state,\n    pos=jnp.array([[1.0, 1.0]]),\n    vel=2 * jnp.ones((1, 2)),\n    rad=10 * jnp.ones((1)),\n)\nprint(f\"\\nState after addition (N={state.N}, IDs={state.ID}):\\npos={state.pos}\")\nprint(f\"New particle velocity: {state.vel[-1]}\")\nprint(f\"New particle radius: {state.rad[-1]}\")"
      ]
    },
    {
      "cell_type": "markdown",
      "metadata": {},
      "source": [
        "You can also add multiple particles at once by providing arrays of the\nappropriate shape. :py:meth:`jaxdem.state.State.add` will ensure the dimensions\nof the new particles match the existing state.\n\n"
      ]
    },
    {
      "cell_type": "code",
      "execution_count": null,
      "metadata": {
        "collapsed": false
      },
      "outputs": [],
      "source": [
        "state = jdem.State.add(\n    state,\n    pos=jnp.array([[2.0, 0.0], [0.0, 2.0]]),\n    vel=jnp.zeros((2, 2)),\n    rad=jnp.array([0.8, 0.3]),\n    ID=jnp.array([2, 3]),\n)\nprint(\n    f\"\\nState after adding multiple particles (N={state.N}, IDs={state.ID}):\\n{state.pos}\"\n)"
      ]
    },
    {
      "cell_type": "markdown",
      "metadata": {},
      "source": [
        "Note that we provided particle IDs here. :py:meth:`jaxdem.state.State.add` will add `jnp.max(state.ID)` to the\nprovided IDs to ensure no overlaps. However, we don't ensure the IDs are a continuous sequence.\nHowever, the default is to use sequential IDs in the constructor.\n\n"
      ]
    },
    {
      "cell_type": "markdown",
      "metadata": {},
      "source": [
        "## Merging Two States\nFor combining two `State` objects,\nyou can use :py:meth:`jaxdem.state.State.merge`. This method concatenates\nthe particles from the second state onto the first. This is useful for\nassembling complex initial configurations from smaller parts.\n\n"
      ]
    },
    {
      "cell_type": "code",
      "execution_count": null,
      "metadata": {
        "collapsed": false
      },
      "outputs": [],
      "source": [
        "state_a = jdem.State.create(\n    pos=jnp.array([[0.0, 0.0], [1.0, 1.0]]),\n)\nstate_b = jdem.State.create(\n    jnp.array([[2.0, 2.0], [3.0, 3.0], [5.0, 2.0]]),\n)\nstate = jdem.State.merge(state_a, state_b)\n\nprint(f\"State A (N={state_a.N}, IDs={state_a.ID}):\\npos={state_a.pos}\")\nprint(f\"State B (N={state_b.N}, IDs={state_b.ID}):\\npos={state_b.pos}\")\nprint(f\"Merged state (N={state.N}, IDs={state.ID}):\\npos={state.pos}\")"
      ]
    },
    {
      "cell_type": "markdown",
      "metadata": {},
      "source": [
        "## Stacking States for Trajectories or Batches\nOne of the features that makes JaxDEM special is its ability\nto handle **batched states**. Batches can be interpreted as trajectories\n(multiple snapshots over time) or as independent simulations\n(multiple distinct initial conditions).\n\nThis capability is handy for performance. JaxDEM is optimized\nfor **throughput**, meaning that if your GPU is not saturated, you're\nleaving performance on the table. A common task in DEM simulations is to\nperform parameter sweeps. JaxDEM provides the tools to run many independent\nsimulations in parallel, potentially completing many small simulations in\nat the same time it would take for just one until your GPU is fully utilized.\n\nFurthermore, JaxDEM's ability to handle trajectories means you don't have\nto interrupt the GPU to perform I/O operations (for example, saving the\nsimulation state). You can accumulate an entire trajectory in memory and then\nsave everything at the end. This often results in much better\nperformance at the cost of a bit more memory usage.\n\nTo manage simulation trajectories or perform batched simulations,\n:py:meth:`jaxdem.state.State.stack` is available. It takes a sequence of\n:py:class:`jaxdem.state.State` snapshots and concatenates them along a new\nleading axis. This creates a multi-dimensional state where the first axis\ncan represent time steps, batch elements, or other high-level groupings.\nNote that stacking does *not* shift particle IDs, as it assumes the\nparticles are the same entities across the stacked dimension.\n:py:meth:`jaxdem.state.State.stack` makes sure shapes are consistent.\n\n"
      ]
    },
    {
      "cell_type": "code",
      "execution_count": null,
      "metadata": {
        "collapsed": false
      },
      "outputs": [],
      "source": [
        "snapshot1 = jdem.State.create(pos=jnp.array([[0.0, 0.0]]), rad=[2.0])\nsnapshot2 = jdem.State.create(pos=jnp.array([[0.1, 0.0]]), vel=jnp.array([[0.1, 0.0]]))\nsnapshot3 = jdem.State.create(pos=jnp.array([[0.2, 0.0]]), mass=[3.3])\n\nbatched_state = jdem.State.stack([snapshot1, snapshot2, snapshot3])\n\nprint(f\"Shape of stacked positions (B, N, dim): {batched_state.pos.shape}\")\nprint(f\"Batch size: {batched_state.batch_size}\")"
      ]
    },
    {
      "cell_type": "markdown",
      "metadata": {},
      "source": [
        "Another way of creating batch states is using Jax's vmap:\n\n"
      ]
    },
    {
      "cell_type": "code",
      "execution_count": null,
      "metadata": {
        "collapsed": false
      },
      "outputs": [],
      "source": [
        "batched_state = jax.vmap(\n    lambda i: jdem.State.create(\n        i\n        * jnp.ones(\n            (1, 2),\n        )\n    )\n)(jnp.arange(4))\nprint(f\"Shape of stacked positions (B, N, dim): {batched_state.pos.shape}\")\nprint(f\"Batch size: {batched_state.batch_size}\")\nprint(f\"Position at batch 0: {batched_state.pos[0]}\")\nprint(f\"Position at batch 1: {batched_state.pos[1]}\")\nprint(f\"Position at batch 2: {batched_state.pos[2]}\")"
      ]
    },
    {
      "cell_type": "markdown",
      "metadata": {},
      "source": [
        "A more realistic way in which you could encounter a batched state is the following:\n\n"
      ]
    },
    {
      "cell_type": "code",
      "execution_count": null,
      "metadata": {
        "collapsed": false
      },
      "outputs": [],
      "source": [
        "def initialize(i):\n    state = jdem.State.create(i * jnp.ones((4, 2)))\n    system = jdem.System.create(state.shape)\n    return state, system\n\n\nN_batches = 10\nstate, system = jax.vmap(initialize)(jnp.arange(N_batches))"
      ]
    },
    {
      "cell_type": "markdown",
      "metadata": {},
      "source": [
        "Then, to run this simulation:\n\n"
      ]
    },
    {
      "cell_type": "code",
      "execution_count": null,
      "metadata": {
        "collapsed": false
      },
      "outputs": [],
      "source": [
        "state, system = system.step(state, system, n=10, batched=True)\nprint(f\"Shape of positions (B, N, dim): {state.pos.shape}\")"
      ]
    },
    {
      "cell_type": "markdown",
      "metadata": {},
      "source": [
        "Note that system can change over time. Therefore, each state needs to have its own system.\n\n"
      ]
    },
    {
      "cell_type": "markdown",
      "metadata": {},
      "source": [
        "## Trajectories of Batches\nJaxDEM's state handling capabilities extend beyond just batches or single trajectories.\nWe can also accumulate **trajectories of batched states**.\n\nThis feature is handy for scenarios like **parameter sweeps**,\nwhere you're running multiple independent simulations (a batch) and want to\ncapture their full time evolution (a trajectory) without frequent I/O operations.\nIt allows for highly efficient data collection.\n\nMoreover, :py:meth:`jaxdem.writers.VTKWriter.save` is designed to intelligently\nhandle these multi-dimensional states. It understands the structure\nof states with multiple leading dimensions.\n\nBy convention, when dealing with `State.pos` of shape `(..., N, dim)`:\n\n*   The **first leading dimension** (axis=0) is typically interpreted as **trajectory** dimension.\n*   Any **subsequent leading dimensions** are interpreted as a **batch** dimensions.\n\nFor instance, `State.pos` with shape `(T, B, N, dim)` would represent `B`\nindependent batches containing a `T`-steps trajectory of `N` particles.\n\nIf a `State` object with more than four dimensions (`pos.ndim > 4`) is passed to\n:py:meth:`jaxdem.writers.VTKWriter.save`, all leading dimensions from index 0\nup to `pos.ndim - 2` are flattened and treated as a trajectory of batched simulation.\n(T, B_1, ..., B_k, N, dim) -> (T, B, N, dim).\n\n"
      ]
    },
    {
      "cell_type": "code",
      "execution_count": null,
      "metadata": {
        "collapsed": false
      },
      "outputs": [],
      "source": [
        "batched_state = jdem.State.stack([batched_state, batched_state, batched_state])\nprint(f\"Shape of stacked positions (T, B, N, dim): {batched_state.pos.shape}\")\nprint(f\"Batch size: {batched_state.batch_size}\")"
      ]
    },
    {
      "cell_type": "markdown",
      "metadata": {},
      "source": [
        "Following the example of the previous section, you might encounter a trajectory of batches in the following way:\n\n"
      ]
    },
    {
      "cell_type": "code",
      "execution_count": null,
      "metadata": {
        "collapsed": false
      },
      "outputs": [],
      "source": [
        "N_batches = 9\nstate, system = jax.vmap(initialize)(jnp.arange(N_batches))\n\nstate, system, (state_traj, system_traj) = system.trajectory_rollout(\n    state, system, n=10, batched=True\n)\n\nprint(f\"Shape of positions (T, B, N, dim): {state_traj.pos.shape}\")"
      ]
    },
    {
      "cell_type": "markdown",
      "metadata": {},
      "source": [
        "## Utilities\nTo improve the ease of setting up simulations, JaxDEM includes some\nutility methods in :py:mod:`jaxdem.utils` to initialize states and more. For example,\nwe can create a state of N particles with all their attributes random:\n\n"
      ]
    },
    {
      "cell_type": "code",
      "execution_count": null,
      "metadata": {
        "collapsed": false
      },
      "outputs": [],
      "source": [
        "from jaxdem import utils as utils\n\nstate = utils.random_state(dim=3, N=10)\nprint(state)"
      ]
    }
  ],
  "metadata": {
    "kernelspec": {
      "display_name": "Python 3",
      "language": "python",
      "name": "python3"
    },
    "language_info": {
      "codemirror_mode": {
        "name": "ipython",
        "version": 3
      },
      "file_extension": ".py",
      "mimetype": "text/x-python",
      "name": "python",
      "nbconvert_exporter": "python",
      "pygments_lexer": "ipython3",
      "version": "3.13.7"
    }
  },
  "nbformat": 4,
  "nbformat_minor": 0
}