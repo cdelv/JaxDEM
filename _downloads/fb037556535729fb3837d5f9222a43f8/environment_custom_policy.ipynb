{
  "cells": [
    {
      "cell_type": "markdown",
      "metadata": {},
      "source": [
        "\n# Driving Environments with a Custom Policy\n\nIn this example, we create an environment instance and show how to drive it\nefficiently using a custom policy. This approach removes the need to create a\ntrainer object, making evaluation much more efficient.\n"
      ]
    },
    {
      "cell_type": "markdown",
      "metadata": {},
      "source": [
        "## Imports\n\n"
      ]
    },
    {
      "cell_type": "code",
      "execution_count": null,
      "metadata": {
        "collapsed": false
      },
      "outputs": [],
      "source": [
        "import jax\nimport jax.numpy as jnp\nfrom flax import nnx\n\nimport jaxdem as jdem\nimport jaxdem.rl as rl\nfrom jaxdem import utils\n\nfrom pathlib import Path"
      ]
    },
    {
      "cell_type": "markdown",
      "metadata": {},
      "source": [
        "## Variables\nFirst, we define all the variables needed for the example.\n\n"
      ]
    },
    {
      "cell_type": "code",
      "execution_count": null,
      "metadata": {
        "collapsed": false
      },
      "outputs": [],
      "source": [
        "frames_dir = Path(\"/tmp/frames\")\nkey = jax.random.key(1)\nN = 24\nsave_every = 40\nT = 4000\nbatches = T // save_every\nnum_envs = 40"
      ]
    },
    {
      "cell_type": "markdown",
      "metadata": {},
      "source": [
        "## The Policy\nNext, we define a callable that takes the observations and some keyword\narguments, and returns the corresponding actions. For more information,\nsee :py:func:`~jaxdem.utils.env_step`.\n\nIn this example, we drive the environment with a model from JaxDEM using\n``nnx``. However, `model` can be any JIT-compatible function.\n\n"
      ]
    },
    {
      "cell_type": "code",
      "execution_count": null,
      "metadata": {
        "collapsed": false
      },
      "outputs": [],
      "source": [
        "def model(obs, graphdef, graphstate):\n    base_model = nnx.merge(graphdef, graphstate)\n    pi, value = base_model(obs, sequence=False)\n    action = pi.sample(seed=1)\n    return action"
      ]
    },
    {
      "cell_type": "markdown",
      "metadata": {},
      "source": [
        "## Model and Environment\nNow we create a model and an environment to use in the example.\nWe will not perform any training here, since the goal is to show\nhow to drive the environment directly.\n\nA trained model could be loaded in the same way using\n:py:class:`~jaxdem.writers.CheckpointModelLoader`.\n\n"
      ]
    },
    {
      "cell_type": "code",
      "execution_count": null,
      "metadata": {
        "collapsed": false
      },
      "outputs": [],
      "source": [
        "env = rl.Environment.create(\"MultiNavigator\", N=N)\n\nkey, subkey = jax.random.split(key)\nbase_model = rl.Model.create(\n    \"SharedActorCritic\",\n    key=nnx.Rngs(subkey),\n    observation_space_size=env.observation_space_size,\n    action_space_size=env.action_space_size,\n)\nbase_model.eval()\ngraphdef, graphstate = nnx.split(base_model)"
      ]
    },
    {
      "cell_type": "markdown",
      "metadata": {},
      "source": [
        "## Environment Vectorization\nJaxDEM supports vectorized environments, allowing multiple simulations to\nrun in parallel for significant speedups. This is usefull for gathering statistics about the environmentt.\n\n"
      ]
    },
    {
      "cell_type": "code",
      "execution_count": null,
      "metadata": {
        "collapsed": false
      },
      "outputs": [],
      "source": [
        "subkeys = jax.vmap(lambda i: jax.random.fold_in(key, i))(jnp.arange(num_envs))\nenv = jax.vmap(lambda _: env)(jnp.arange(num_envs))\nenv = rl.vectorise_env(env)\nenv = env.reset(env, subkeys)"
      ]
    },
    {
      "cell_type": "markdown",
      "metadata": {},
      "source": [
        "## Driving the Environment\nThere are two main ways to drive an environment. The first is by stepping\nit manually for a fixed number of steps:\n\n"
      ]
    },
    {
      "cell_type": "code",
      "execution_count": null,
      "metadata": {
        "collapsed": false
      },
      "outputs": [],
      "source": [
        "env = utils.env_step(\n    env,\n    model,\n    graphdef=graphdef,\n    graphstate=graphstate,\n    n=save_every,\n)"
      ]
    },
    {
      "cell_type": "markdown",
      "metadata": {},
      "source": [
        "The second approach is to roll out a trajectory, collecting data every\n`stride` steps:\n\n"
      ]
    },
    {
      "cell_type": "code",
      "execution_count": null,
      "metadata": {
        "collapsed": false
      },
      "outputs": [],
      "source": [
        "env, env_traj = utils.env_trajectory_rollout(\n    env,\n    model,\n    graphdef=graphdef,\n    graphstate=graphstate,\n    n=batches,\n    stride=save_every,\n)"
      ]
    },
    {
      "cell_type": "markdown",
      "metadata": {},
      "source": [
        "## Saving Data\nFinally, we can use JaxDEM\u2019s :py:class:`~jaxdem.writers.VTKWriter` to save\nthe full rollout to disk in a single call:\n\n"
      ]
    },
    {
      "cell_type": "code",
      "execution_count": null,
      "metadata": {
        "collapsed": false
      },
      "outputs": [],
      "source": [
        "writer = jdem.VTKWriter(directory=frames_dir)\nwriter.save(env_traj.state, env_traj.system, trajectory=True)"
      ]
    }
  ],
  "metadata": {
    "kernelspec": {
      "display_name": "Python 3",
      "language": "python",
      "name": "python3"
    },
    "language_info": {
      "codemirror_mode": {
        "name": "ipython",
        "version": 3
      },
      "file_extension": ".py",
      "mimetype": "text/x-python",
      "name": "python",
      "nbconvert_exporter": "python",
      "pygments_lexer": "ipython3",
      "version": "3.13.7"
    }
  },
  "nbformat": 4,
  "nbformat_minor": 0
}