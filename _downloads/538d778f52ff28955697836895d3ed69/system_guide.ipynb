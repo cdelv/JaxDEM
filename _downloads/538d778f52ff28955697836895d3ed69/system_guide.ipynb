{
  "cells": [
    {
      "cell_type": "markdown",
      "metadata": {},
      "source": [
        "\n# The Simulation System\n\nNow that we know how to use and manipulate the simulation state\n(:py:class:`~jaxdem.state.State`), it's time to delve into the simulation\nconfiguration in :py:class:`~jaxdem.system.System`.\n\nA :py:class:`~jaxdem.system.System` holds the \"static\" configuration of a\nsimulation, such as the domain, integrator settings, and force model. Although\nwe call it \"static\", many fields (e.g., the time step $\\Delta t$,\ndomain dimensions, boundary conditions) can be changed at runtime\u2014even inside a\nJIT-compiled function\u2014because both :py:class:`~jaxdem.state.State` and\n:py:class:`~jaxdem.system.System` are JAX pytrees.\n"
      ]
    },
    {
      "cell_type": "markdown",
      "metadata": {},
      "source": [
        "## System Creation\nBy default, :py:meth:`~jaxdem.system.System.create` initializes unspecified\nattributes (e.g., domain, force_model, $\\Delta t$) with sensible defaults.\n\n"
      ]
    },
    {
      "cell_type": "code",
      "execution_count": null,
      "metadata": {
        "collapsed": false
      },
      "outputs": [],
      "source": [
        "import dataclasses as _dc\nimport jax\nimport jax.numpy as jnp\nimport jaxdem as jdem"
      ]
    },
    {
      "cell_type": "markdown",
      "metadata": {},
      "source": [
        "It is essential that the system's shape matches the state's shape.\nSome components, like those in :py:mod:`~jaxdem.domains` require matching dimensions because\nthey transform the state's arrays of shape \\( (N, d) \\) where \\( d \\) must\nagree with the system.\n\n"
      ]
    },
    {
      "cell_type": "code",
      "execution_count": null,
      "metadata": {
        "collapsed": false
      },
      "outputs": [],
      "source": [
        "state = jdem.State.create(pos=jnp.zeros((1, 2)))\nsystem = jdem.System.create(state.shape)\nstate, system = system.step(state, system)  # one step"
      ]
    },
    {
      "cell_type": "markdown",
      "metadata": {},
      "source": [
        "## Configuring the System\nYou can configure submodules when creating the system via keyword arguments.\n\n"
      ]
    },
    {
      "cell_type": "code",
      "execution_count": null,
      "metadata": {
        "collapsed": false
      },
      "outputs": [],
      "source": [
        "system = jdem.System.create(state.shape, domain_type=\"periodic\")\nprint(\"periodic domain:\", system.domain)"
      ]
    },
    {
      "cell_type": "markdown",
      "metadata": {},
      "source": [
        "You can also pass constructor arguments to submodules via *_kw dictionaries.\n\n"
      ]
    },
    {
      "cell_type": "code",
      "execution_count": null,
      "metadata": {
        "collapsed": false
      },
      "outputs": [],
      "source": [
        "system = jdem.System.create(\n    state.shape,\n    domain_type=\"periodic\",\n    domain_kw=dict(box_size=10.0 * jnp.ones(2), anchor=jnp.zeros(2)),\n)\nprint(\"periodic domain (10x10):\", system.domain)"
      ]
    },
    {
      "cell_type": "markdown",
      "metadata": {},
      "source": [
        "## Manually swapping a submodule\nInternally, :py:meth:`~jaxdem.system.System.create` builds each submodule and\nperforms sanity checks. You can also create a submodule manually and replace\nit using:\n\n"
      ]
    },
    {
      "cell_type": "code",
      "execution_count": null,
      "metadata": {
        "collapsed": false
      },
      "outputs": [],
      "source": [
        "domain = jdem.Domain.create(\"free\", dim=2)\nsystem.domain = domain\nprint(\"free default domain:\", system.domain)"
      ]
    },
    {
      "cell_type": "markdown",
      "metadata": {},
      "source": [
        "## Time stepping\nThe system controls how to advance the simulation in time.\nYou can perform a single step or multiple steps in a batch. When taking many\nsteps, batched stepping uses :py:func:`jax.lax.scan` under the hood for speed.\n\n"
      ]
    },
    {
      "cell_type": "code",
      "execution_count": null,
      "metadata": {
        "collapsed": false
      },
      "outputs": [],
      "source": [
        "state = jdem.State.create(jnp.zeros((1, 2)))\nstate, system = system.step(state, system)  # 1 step\n\n# Multiple steps in a single call:\nstate, system = system.step(state, system, n=10)  # 10 steps"
      ]
    },
    {
      "cell_type": "markdown",
      "metadata": {},
      "source": [
        "## Trajectory rollout\nIf you want to store snapshots along the way, use\n:py:meth:`~jaxdem.system.System.trajectory_rollout`. This records `n` snapshots,\ntaking `stride` internal steps between snapshots, i.e., a total of\n$n \\cdot \\text{stride}$ integration steps.\n\n"
      ]
    },
    {
      "cell_type": "code",
      "execution_count": null,
      "metadata": {
        "collapsed": false
      },
      "outputs": [],
      "source": [
        "state = jdem.State.create(jnp.zeros((1, 2)))\n\nstate, system, trajectory = system.trajectory_rollout(\n    state, system, n=10, stride=2  # total steps = 20\n)"
      ]
    },
    {
      "cell_type": "markdown",
      "metadata": {},
      "source": [
        "The trajectory is a Tuple[State, System] with an extra leading snapshot axis\nof length `n`.\n\n"
      ]
    },
    {
      "cell_type": "code",
      "execution_count": null,
      "metadata": {
        "collapsed": false
      },
      "outputs": [],
      "source": [
        "traj_state, traj_system = trajectory\nprint(\"trajectory pos shape:\", traj_state.pos.shape)  # (n, N, d)"
      ]
    },
    {
      "cell_type": "markdown",
      "metadata": {},
      "source": [
        "## Batched simulations with vmap\nYou can run many independent simulations in parallel with :py:func:`jax.vmap`.\nMake sure the initialization returns per-simulation State/System pairs.\n\n"
      ]
    },
    {
      "cell_type": "code",
      "execution_count": null,
      "metadata": {
        "collapsed": false
      },
      "outputs": [],
      "source": [
        "def initialize(i):\n    st = jdem.State.create(jnp.zeros((1, 2)))\n    sys = jdem.System.create(\n        state.shape,\n        domain_type=\"reflect\",\n        domain_kw=dict(box_size=(2 + i) * jnp.ones(2), anchor=jnp.zeros(2)),\n    )\n    return st, sys\n\n\n# Create a batch of 5 simulations\nstate_b, system_b = jax.vmap(initialize)(jnp.arange(5))\nprint(system_b.domain)  # batched variable domain"
      ]
    },
    {
      "cell_type": "markdown",
      "metadata": {},
      "source": [
        "Advance each simulation by 10 steps.\nUse the class method (or a small wrapper) to avoid variable shadowing.\n\n"
      ]
    },
    {
      "cell_type": "code",
      "execution_count": null,
      "metadata": {
        "collapsed": false
      },
      "outputs": [],
      "source": [
        "state_b, system_b = jax.vmap(lambda st, sys: jdem.System.step(st, sys, n=10))(\n    state_b, system_b\n)\nprint(\"batched pos shape:\", state_b.pos.shape)  # (batch, N, d)"
      ]
    }
  ],
  "metadata": {
    "kernelspec": {
      "display_name": "Python 3",
      "language": "python",
      "name": "python3"
    },
    "language_info": {
      "codemirror_mode": {
        "name": "ipython",
        "version": 3
      },
      "file_extension": ".py",
      "mimetype": "text/x-python",
      "name": "python",
      "nbconvert_exporter": "python",
      "pygments_lexer": "ipython3",
      "version": "3.13.7"
    }
  },
  "nbformat": 4,
  "nbformat_minor": 0
}