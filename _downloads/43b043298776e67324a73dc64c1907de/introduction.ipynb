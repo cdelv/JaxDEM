{
  "cells": [
    {
      "cell_type": "markdown",
      "metadata": {},
      "source": [
        "\n# Introduction\n\nLets look at the absolute simplest simulation you can run using JaxDEM.\n\nLet's get started!\n"
      ]
    },
    {
      "cell_type": "code",
      "execution_count": null,
      "metadata": {
        "collapsed": false
      },
      "outputs": [],
      "source": [
        "import jaxdem as jdem"
      ]
    },
    {
      "cell_type": "markdown",
      "metadata": {},
      "source": [
        "## Initialize the Simulation State\nFirst, we create a :py:class:`jaxdem.state.State` object. The state object holds all the information of the objects inside the simulation.\nLets create a single particle at the origin (0, 0, 0). By default, :py:meth:`jaxdem.state.State.create` will set default values for all non-specified attributes.\n\n"
      ]
    },
    {
      "cell_type": "code",
      "execution_count": null,
      "metadata": {
        "collapsed": false
      },
      "outputs": [],
      "source": [
        "state = jdem.State.create(pos=[[0.0, 0.0, 0.0]])"
      ]
    },
    {
      "cell_type": "markdown",
      "metadata": {},
      "source": [
        "Note that we used `pos=[[coords]]` not `pos=[coords]`. This is because :py:meth:`jaxdem.state.State.create` expects a list of coordinates.\nTherefore, we must pass a list of lists, even for a single particle. Internally, the coordinates list will be converted to a Jax array.\n\n"
      ]
    },
    {
      "cell_type": "markdown",
      "metadata": {},
      "source": [
        "## Initialize the Simulation System\nNext, we define our :py:class:`jaxdem.system.System`. This object holds all the global parameters\nand configuration of our simulation. In the same way as `state`, :py:meth:`jaxdem.system.System.create` will\nuse default values for anything we don't specify. The only requirement is that the dimension of the\nsimulation matches the dimension of the state:\n\n"
      ]
    },
    {
      "cell_type": "code",
      "execution_count": null,
      "metadata": {
        "collapsed": false
      },
      "outputs": [],
      "source": [
        "system = jdem.System.create(state.shape)"
      ]
    },
    {
      "cell_type": "markdown",
      "metadata": {},
      "source": [
        "## Run the Simulation\nFinally, we drive the simulation by calling :py:class:`jaxdem.system.System.step`. We'll advance\nthe simulation for `n_steps` time steps:\n\n"
      ]
    },
    {
      "cell_type": "code",
      "execution_count": null,
      "metadata": {
        "collapsed": false
      },
      "outputs": [],
      "source": [
        "n_steps = 10\nstate, system = system.step(state, system, n=n_steps)"
      ]
    },
    {
      "cell_type": "markdown",
      "metadata": {},
      "source": [
        "## Saving the Simulation State\nThe last thing left to do is to save the simulation:\n\n"
      ]
    },
    {
      "cell_type": "code",
      "execution_count": null,
      "metadata": {
        "collapsed": false
      },
      "outputs": [],
      "source": [
        "writer = jdem.VTKWriter(directory=\"/tmp/data\")\nwriter.save(state, system)"
      ]
    }
  ],
  "metadata": {
    "kernelspec": {
      "display_name": "Python 3",
      "language": "python",
      "name": "python3"
    },
    "language_info": {
      "codemirror_mode": {
        "name": "ipython",
        "version": 3
      },
      "file_extension": ".py",
      "mimetype": "text/x-python",
      "name": "python",
      "nbconvert_exporter": "python",
      "pygments_lexer": "ipython3",
      "version": "3.13.7"
    }
  },
  "nbformat": 4,
  "nbformat_minor": 0
}